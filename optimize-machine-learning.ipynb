{
  "cells": [
    {
      "cell_type": "markdown",
      "source": [
        "# Optimize Machine Learning - Bank Marketing Predictor"
      ],
      "metadata": {
        "nteract": {
          "transient": {
            "deleting": false
          }
        }
      }
    },
    {
      "cell_type": "markdown",
      "source": [
        "## Training Setup"
      ],
      "metadata": {
        "nteract": {
          "transient": {
            "deleting": false
          }
        }
      }
    },
    {
      "cell_type": "markdown",
      "source": [
        "### Initialize Workspace"
      ],
      "metadata": {
        "nteract": {
          "transient": {
            "deleting": false
          }
        }
      }
    },
    {
      "cell_type": "code",
      "source": [
        "from azureml.core import Workspace\n",
        "\n",
        "ws = Workspace.from_config()\n",
        "print(f\"Azure Machine Learning Workspace Loaded Successfully\\n\"\n",
        "      f\"-----------------------------------------------------------\\n\"\n",
        "      f\"Workspace Name     : {ws.name}\\n\"\n",
        "      f\"Resource Group     : {ws.resource_group}\\n\"\n",
        "      f\"Location           : {ws.location}\\n\"\n",
        "      f\"Subscription ID    : {ws.subscription_id}\\n\")"
      ],
      "outputs": [
        {
          "output_type": "stream",
          "name": "stdout",
          "text": "Azure Machine Learning Workspace Loaded Successfully\n-----------------------------------------------------------\nWorkspace Name     : optimize-machine-learning-ws\nResource Group     : optimize-machine-learning\nLocation           : norwayeast\nSubscription ID    : 48778e11-0fc7-4fc8-a16c-304a430e61a4\n\n"
        }
      ],
      "execution_count": 1,
      "metadata": {
        "gather": {
          "logged": 1741969684818
        }
      }
    },
    {
      "cell_type": "markdown",
      "source": [
        "### Initialize Experiment"
      ],
      "metadata": {
        "nteract": {
          "transient": {
            "deleting": false
          }
        }
      }
    },
    {
      "cell_type": "code",
      "source": [
        "from azureml.core import Experiment\n",
        "\n",
        "# Define experiment name and initialize it in the workspace\n",
        "experiment_name = \"bank-deposit-predictor\"\n",
        "experiment = Experiment(workspace=ws, name=experiment_name)\n",
        "\n",
        "# Define project folder\n",
        "project_folder = \"./bank-deposit-predictor\"\n",
        "\n",
        "# Display experiment details\n",
        "print(f\"Azure ML Experiment Initialized Successfully\\n\"\n",
        "      f\"--------------------------------------------------\\n\"\n",
        "      f\"Experiment Name    : {experiment.name}\\n\"\n",
        "      f\"Workspace          : {experiment.workspace.name}\\n\"\n",
        "      f\"Project Folder     : {project_folder}\\n\")\n"
      ],
      "outputs": [
        {
          "output_type": "stream",
          "name": "stdout",
          "text": "Azure ML Experiment Initialized Successfully\n--------------------------------------------------\nExperiment Name    : bank-deposit-predictor\nWorkspace          : optimize-machine-learning-ws\nProject Folder     : ./bank-deposit-predictor\n\n"
        }
      ],
      "execution_count": 2,
      "metadata": {
        "gather": {
          "logged": 1741969684956
        }
      }
    },
    {
      "cell_type": "markdown",
      "source": [
        "### Handling the Compute Cluster"
      ],
      "metadata": {
        "nteract": {
          "transient": {
            "deleting": false
          }
        }
      }
    },
    {
      "cell_type": "code",
      "source": [
        "from azureml.core.compute import AmlCompute, ComputeTarget\n",
        "from azureml.core.compute_target import ComputeTargetException\n",
        "\n",
        "# -------------------------------\n",
        "# Compute Cluster Configuration\n",
        "# -------------------------------\n",
        "compute_name = \"training-cluster\"\n",
        "compute_min_nodes = 0\n",
        "compute_max_nodes = 5\n",
        "vm_size = \"Standard_D3_v2\"\n",
        "\n",
        "# Define provisioning configuration for the compute cluster\n",
        "compute_config = AmlCompute.provisioning_configuration(\n",
        "    vm_size=vm_size,\n",
        "    min_nodes=compute_min_nodes,\n",
        "    max_nodes=compute_max_nodes,\n",
        "    idle_seconds_before_scaledown=600,  # Auto-scale down after 10 minutes of inactivity\n",
        ")\n",
        "\n",
        "# -------------------------------\n",
        "# Create or Attach Compute Cluster\n",
        "# -------------------------------\n",
        "try:\n",
        "    # Check if the compute cluster already exists in the workspace\n",
        "    compute_target = ComputeTarget(workspace=ws, name=compute_name)\n",
        "    print(f\"✔️ Compute cluster '{compute_name}' found in the workspace.\")\n",
        "    print(f\"   - VM Size         : {compute_target.vm_size}\")\n",
        "    print(f\"   - Minimum Nodes   : {compute_target.scale_settings.minimum_node_count}\")\n",
        "    print(f\"   - Maximum Nodes   : {compute_target.scale_settings.maximum_node_count}\")\n",
        "    print(f\"   - Auto-Scale Down : {compute_target.scale_settings.idle_seconds_before_scaledown // 60} minutes\")\n",
        "except ComputeTargetException:\n",
        "    # Create a new compute cluster if it does not exist\n",
        "    print(f\"🚀 Creating a new compute cluster: '{compute_name}'\")\n",
        "    compute_target = ComputeTarget.create(ws, compute_name, compute_config)\n",
        "    compute_target.wait_for_completion(show_output=True)\n",
        "    print(f\"✅ Compute cluster '{compute_name}' has been successfully created.\")\n",
        "\n",
        "print(f\"🔹 Compute cluster '{compute_name}' is ready for use.\")\n",
        "\n"
      ],
      "outputs": [
        {
          "output_type": "stream",
          "name": "stdout",
          "text": "✔️ Compute cluster 'training-cluster' found in the workspace.\n   - VM Size         : Standard_D3_v2\n   - Minimum Nodes   : 0\n   - Maximum Nodes   : 5\n   - Auto-Scale Down : 10 minutes\n🔹 Compute cluster 'training-cluster' is ready for use.\n"
        }
      ],
      "execution_count": 3,
      "metadata": {
        "gather": {
          "logged": 1741969685271
        }
      }
    },
    {
      "cell_type": "markdown",
      "source": [
        "### Importing the Dataset"
      ],
      "metadata": {
        "nteract": {
          "transient": {
            "deleting": false
          }
        }
      }
    },
    {
      "cell_type": "code",
      "source": [
        "from azureml.core import Dataset\n",
        "\n",
        "# -------------------------------\n",
        "# Dataset Configuration\n",
        "# -------------------------------\n",
        "dataset_name = \"bank-marketing-dataset\"\n",
        "dataset_description = \"Bank Marketing Dataset for predictive modeling.\"\n",
        "dataset_url = \"https://automlsamplenotebookdata.blob.core.windows.net/automl-sample-notebook-data/bankmarketing_train.csv\"\n",
        "\n",
        "# -------------------------------\n",
        "# Check if Dataset Exists\n",
        "# -------------------------------\n",
        "if dataset_name in ws.datasets:\n",
        "    dataset = ws.datasets[dataset_name]\n",
        "    print(f\"✔️ Found existing dataset: '{dataset_name}' in the workspace.\")\n",
        "else:\n",
        "    print(f\"📂 Dataset '{dataset_name}' not found. Registering a new dataset...\")\n",
        "    \n",
        "    # Create AML Tabular Dataset from URL\n",
        "    dataset = Dataset.Tabular.from_delimited_files(dataset_url)\n",
        "    \n",
        "    # Register the dataset in the workspace\n",
        "    dataset = dataset.register(\n",
        "        workspace=ws,\n",
        "        name=dataset_name,\n",
        "        description=dataset_description\n",
        "    )\n",
        "    \n",
        "    print(f\"✅ Dataset '{dataset_name}' has been successfully registered.\")\n",
        "\n",
        "# -------------------------------\n",
        "# Load Dataset into DataFrame\n",
        "# -------------------------------\n",
        "df = dataset.to_pandas_dataframe()\n",
        "print(f\"📊 Dataset '{dataset_name}' loaded successfully with {df.shape[0]} rows and {df.shape[1]} columns.\")\n",
        "df.head()\n"
      ],
      "outputs": [
        {
          "output_type": "stream",
          "name": "stdout",
          "text": "✔️ Found existing dataset: 'bank-marketing-dataset' in the workspace.\n{'infer_column_types': 'False', 'activity': 'to_pandas_dataframe'}\n{'infer_column_types': 'False', 'activity': 'to_pandas_dataframe', 'activityApp': 'TabularDataset'}\n📊 Dataset 'bank-marketing-dataset' loaded successfully with 32950 rows and 21 columns.\n"
        },
        {
          "output_type": "execute_result",
          "execution_count": 4,
          "data": {
            "text/plain": "   age          job  marital    education  default housing loan    contact  \\\n0   57   technician  married  high.school       no      no  yes   cellular   \n1   55      unknown  married      unknown  unknown     yes   no  telephone   \n2   33  blue-collar  married     basic.9y       no      no   no   cellular   \n3   36       admin.  married  high.school       no      no   no  telephone   \n4   27    housemaid  married  high.school       no     yes   no   cellular   \n\n  month day_of_week  ...  campaign  pdays  previous     poutcome emp.var.rate  \\\n0   may         mon  ...         1    999         1      failure         -1.8   \n1   may         thu  ...         2    999         0  nonexistent          1.1   \n2   may         fri  ...         1    999         1      failure         -1.8   \n3   jun         fri  ...         4    999         0  nonexistent          1.4   \n4   jul         fri  ...         2    999         0  nonexistent          1.4   \n\n   cons.price.idx  cons.conf.idx  euribor3m  nr.employed   y  \n0          92.893          -46.2      1.299       5099.1  no  \n1          93.994          -36.4      4.860       5191.0  no  \n2          92.893          -46.2      1.313       5099.1  no  \n3          94.465          -41.8      4.967       5228.1  no  \n4          93.918          -42.7      4.963       5228.1  no  \n\n[5 rows x 21 columns]",
            "text/html": "<div>\n<style scoped>\n    .dataframe tbody tr th:only-of-type {\n        vertical-align: middle;\n    }\n\n    .dataframe tbody tr th {\n        vertical-align: top;\n    }\n\n    .dataframe thead th {\n        text-align: right;\n    }\n</style>\n<table border=\"1\" class=\"dataframe\">\n  <thead>\n    <tr style=\"text-align: right;\">\n      <th></th>\n      <th>age</th>\n      <th>job</th>\n      <th>marital</th>\n      <th>education</th>\n      <th>default</th>\n      <th>housing</th>\n      <th>loan</th>\n      <th>contact</th>\n      <th>month</th>\n      <th>day_of_week</th>\n      <th>...</th>\n      <th>campaign</th>\n      <th>pdays</th>\n      <th>previous</th>\n      <th>poutcome</th>\n      <th>emp.var.rate</th>\n      <th>cons.price.idx</th>\n      <th>cons.conf.idx</th>\n      <th>euribor3m</th>\n      <th>nr.employed</th>\n      <th>y</th>\n    </tr>\n  </thead>\n  <tbody>\n    <tr>\n      <th>0</th>\n      <td>57</td>\n      <td>technician</td>\n      <td>married</td>\n      <td>high.school</td>\n      <td>no</td>\n      <td>no</td>\n      <td>yes</td>\n      <td>cellular</td>\n      <td>may</td>\n      <td>mon</td>\n      <td>...</td>\n      <td>1</td>\n      <td>999</td>\n      <td>1</td>\n      <td>failure</td>\n      <td>-1.8</td>\n      <td>92.893</td>\n      <td>-46.2</td>\n      <td>1.299</td>\n      <td>5099.1</td>\n      <td>no</td>\n    </tr>\n    <tr>\n      <th>1</th>\n      <td>55</td>\n      <td>unknown</td>\n      <td>married</td>\n      <td>unknown</td>\n      <td>unknown</td>\n      <td>yes</td>\n      <td>no</td>\n      <td>telephone</td>\n      <td>may</td>\n      <td>thu</td>\n      <td>...</td>\n      <td>2</td>\n      <td>999</td>\n      <td>0</td>\n      <td>nonexistent</td>\n      <td>1.1</td>\n      <td>93.994</td>\n      <td>-36.4</td>\n      <td>4.860</td>\n      <td>5191.0</td>\n      <td>no</td>\n    </tr>\n    <tr>\n      <th>2</th>\n      <td>33</td>\n      <td>blue-collar</td>\n      <td>married</td>\n      <td>basic.9y</td>\n      <td>no</td>\n      <td>no</td>\n      <td>no</td>\n      <td>cellular</td>\n      <td>may</td>\n      <td>fri</td>\n      <td>...</td>\n      <td>1</td>\n      <td>999</td>\n      <td>1</td>\n      <td>failure</td>\n      <td>-1.8</td>\n      <td>92.893</td>\n      <td>-46.2</td>\n      <td>1.313</td>\n      <td>5099.1</td>\n      <td>no</td>\n    </tr>\n    <tr>\n      <th>3</th>\n      <td>36</td>\n      <td>admin.</td>\n      <td>married</td>\n      <td>high.school</td>\n      <td>no</td>\n      <td>no</td>\n      <td>no</td>\n      <td>telephone</td>\n      <td>jun</td>\n      <td>fri</td>\n      <td>...</td>\n      <td>4</td>\n      <td>999</td>\n      <td>0</td>\n      <td>nonexistent</td>\n      <td>1.4</td>\n      <td>94.465</td>\n      <td>-41.8</td>\n      <td>4.967</td>\n      <td>5228.1</td>\n      <td>no</td>\n    </tr>\n    <tr>\n      <th>4</th>\n      <td>27</td>\n      <td>housemaid</td>\n      <td>married</td>\n      <td>high.school</td>\n      <td>no</td>\n      <td>yes</td>\n      <td>no</td>\n      <td>cellular</td>\n      <td>jul</td>\n      <td>fri</td>\n      <td>...</td>\n      <td>2</td>\n      <td>999</td>\n      <td>0</td>\n      <td>nonexistent</td>\n      <td>1.4</td>\n      <td>93.918</td>\n      <td>-42.7</td>\n      <td>4.963</td>\n      <td>5228.1</td>\n      <td>no</td>\n    </tr>\n  </tbody>\n</table>\n<p>5 rows × 21 columns</p>\n</div>"
          },
          "metadata": {}
        }
      ],
      "execution_count": 4,
      "metadata": {
        "jupyter": {
          "source_hidden": false,
          "outputs_hidden": false
        },
        "nteract": {
          "transient": {
            "deleting": false
          }
        },
        "gather": {
          "logged": 1741969686941
        }
      }
    },
    {
      "cell_type": "markdown",
      "source": [
        "### Retrieving Summary Statistics on Data  "
      ],
      "metadata": {
        "nteract": {
          "transient": {
            "deleting": false
          }
        }
      }
    },
    {
      "cell_type": "code",
      "source": [
        "# Generate summary statistics for numerical columns\n",
        "summary_stats = df.describe().T[['mean', 'std', 'min', '25%', '50%', '75%', 'max']]\n",
        "\n",
        "# Format numbers to two decimal places\n",
        "summary_stats = summary_stats.round(2)\n",
        "\n",
        "# Display the enhanced summary statistics table\n",
        "print(\"\\n📊 Summary Statistics Table\")\n",
        "print(\"=\" * 80)\n",
        "print(summary_stats.to_string())\n",
        "\n"
      ],
      "outputs": [
        {
          "output_type": "stream",
          "name": "stdout",
          "text": "\n📊 Summary Statistics Table\n================================================================================\n                   mean     std      min      25%      50%      75%      max\nage               40.04   10.43    17.00    32.00    38.00    47.00    98.00\nduration         257.34  257.33     0.00   102.00   179.00   318.00  4918.00\ncampaign           2.56    2.76     1.00     1.00     2.00     3.00    56.00\npdays            962.17  187.65     0.00   999.00   999.00   999.00   999.00\nprevious           0.17    0.50     0.00     0.00     0.00     0.00     7.00\nemp.var.rate       0.08    1.57    -3.40    -1.80     1.10     1.40     1.40\ncons.price.idx    93.57    0.58    92.20    93.08    93.75    93.99    94.77\ncons.conf.idx    -40.52    4.62   -50.80   -42.70   -41.80   -36.40   -26.90\neuribor3m          3.62    1.74     0.63     1.34     4.86     4.96     5.04\nnr.employed     5166.86   72.21  4963.60  5099.10  5191.00  5228.10  5228.10\n"
        }
      ],
      "execution_count": 5,
      "metadata": {
        "gather": {
          "logged": 1741969687056
        }
      }
    },
    {
      "cell_type": "markdown",
      "source": [
        "### Setting up Training Configuration"
      ],
      "metadata": {
        "nteract": {
          "transient": {
            "deleting": false
          }
        }
      }
    },
    {
      "cell_type": "code",
      "source": [
        "from azureml.train.automl import AutoMLConfig\n",
        "\n",
        "# Define AutoML settings with updated parameters\n",
        "automl_settings = {\n",
        "    \"experiment_timeout_minutes\": 20,  # 20 minutes\n",
        "    \"max_concurrent_iterations\": 5,  # Number of concurrent iterations\n",
        "    \"primary_metric\": \"accuracy\",  # Classification typically optimizes for accuracy\n",
        "    \"n_cross_validations\": 5  # Maintain robust evaluation\n",
        "}\n",
        "\n",
        "# Configure AutoML for classification with model explainability\n",
        "classification_config = AutoMLConfig(\n",
        "    compute_target=compute_target,\n",
        "    task=\"classification\",\n",
        "    training_data=dataset,\n",
        "    label_column_name=\"y\",\n",
        "    path=project_folder,\n",
        "    enable_early_stopping=True,\n",
        "    featurization=\"auto\",\n",
        "    debug_log=\"automl_errors.log\",\n",
        "    **automl_settings\n",
        ")\n"
      ],
      "outputs": [],
      "execution_count": 6,
      "metadata": {
        "gather": {
          "logged": 1741969687174
        }
      }
    },
    {
      "cell_type": "markdown",
      "source": [
        "### Setting Up Information Containers"
      ],
      "metadata": {
        "nteract": {
          "transient": {
            "deleting": false
          }
        }
      }
    },
    {
      "cell_type": "code",
      "source": [
        "from azureml.pipeline.core import PipelineData, TrainingOutput\n",
        "\n",
        "# Retrieve the default datastore\n",
        "default_datastore = ws.get_default_datastore()\n",
        "\n",
        "# Define pipeline output identifiers\n",
        "METRICS_OUTPUT_NAME = \"metrics_output\"\n",
        "MODEL_OUTPUT_NAME = \"best_model_output\"\n",
        "\n",
        "# Define PipelineData for storing training metrics\n",
        "metrics_data = PipelineData(\n",
        "    name=\"metrics_data\",\n",
        "    datastore=default_datastore,\n",
        "    pipeline_output_name=METRICS_OUTPUT_NAME,\n",
        "    training_output=TrainingOutput(type=\"Metrics\")  # Stores training metrics\n",
        ")\n",
        "\n",
        "# Define PipelineData for storing the best model\n",
        "model_data = PipelineData(\n",
        "    name=\"model_data\",\n",
        "    datastore=default_datastore,\n",
        "    pipeline_output_name=MODEL_OUTPUT_NAME,\n",
        "    training_output=TrainingOutput(type=\"Model\")  # Stores trained model\n",
        ")\n",
        "\n",
        "# Confirmation message\n",
        "print(\"✅ Pipeline outputs initialized successfully.\")\n",
        "print(f\"📊 Metrics Output: {METRICS_OUTPUT_NAME}\")\n",
        "print(f\"📦 Model Output: {MODEL_OUTPUT_NAME}\")\n"
      ],
      "outputs": [
        {
          "output_type": "stream",
          "name": "stdout",
          "text": "✅ Pipeline outputs initialized successfully.\n📊 Metrics Output: metrics_output\n📦 Model Output: best_model_output\n"
        }
      ],
      "execution_count": 7,
      "metadata": {
        "gather": {
          "logged": 1741969687309
        }
      }
    },
    {
      "cell_type": "markdown",
      "source": [
        "### Creating the AutoML Pipeline"
      ],
      "metadata": {
        "nteract": {
          "transient": {
            "deleting": false
          }
        }
      }
    },
    {
      "cell_type": "code",
      "source": [
        "from azureml.pipeline.steps import AutoMLStep\n",
        "from azureml.pipeline.core import Pipeline\n",
        "\n",
        "# Define the AutoML step\n",
        "automl_step = AutoMLStep(\n",
        "    name=\"AutoML_Classification\",\n",
        "    automl_config=classification_config,\n",
        "    outputs=[metrics_data, model_data],  # Capture training metrics and model output\n",
        "    allow_reuse=True  # Enables step reuse to optimize execution time\n",
        ")\n",
        "\n",
        "# Construct the pipeline with AutoML step\n",
        "pipeline = Pipeline(\n",
        "    workspace=ws,\n",
        "    steps=[automl_step],\n",
        "    description=\"Automated ML pipeline for classiying banking conversion rates\"\n",
        ")\n",
        "\n",
        "# Confirmation message\n",
        "print(\"✅ AutoML pipeline successfully created.\")\n"
      ],
      "outputs": [
        {
          "output_type": "stream",
          "name": "stdout",
          "text": "✅ AutoML pipeline successfully created.\n"
        }
      ],
      "execution_count": 8,
      "metadata": {
        "gather": {
          "logged": 1741969688299
        },
        "jupyter": {
          "outputs_hidden": false
        }
      }
    },
    {
      "cell_type": "markdown",
      "source": [
        "## Traning the Data"
      ],
      "metadata": {
        "nteract": {
          "transient": {
            "deleting": false
          }
        }
      }
    },
    {
      "cell_type": "markdown",
      "source": [
        "### Submit the AutoML Job"
      ],
      "metadata": {
        "nteract": {
          "transient": {
            "deleting": false
          }
        }
      }
    },
    {
      "cell_type": "code",
      "source": [
        "!sudo -i pip install azureml-widgets\n",
        "!sudo -i jupyter labextension install @jupyter-widgets/jupyterlab-manager\n",
        "!jupyter labextension list"
      ],
      "outputs": [
        {
          "output_type": "stream",
          "name": "stdout",
          "text": "Requirement already satisfied: azureml-widgets in /usr/local/lib/python3.8/dist-packages (1.59.0)\nRequirement already satisfied: azureml-core~=1.59.0 in /usr/local/lib/python3.8/dist-packages (from azureml-widgets) (1.59.0.post1)\nRequirement already satisfied: ipywidgets<8.0.0,>=7.0.0 in /usr/local/lib/python3.8/dist-packages (from azureml-widgets) (7.8.5)\nRequirement already satisfied: azureml-telemetry~=1.59.0 in /usr/local/lib/python3.8/dist-packages (from azureml-widgets) (1.59.0)\nRequirement already satisfied: jinja2<4.0 in /usr/lib/python3/dist-packages (from azureml-widgets) (2.10.1)\nRequirement already satisfied: azure-storage-blob>=12.6.0 in /usr/local/lib/python3.8/dist-packages (from azureml-widgets) (12.25.0)\nRequirement already satisfied: knack<0.13.0 in /usr/local/lib/python3.8/dist-packages (from azureml-core~=1.59.0->azureml-widgets) (0.12.0)\nRequirement already satisfied: msal-extensions<=2.0.0,>=0.3.0 in /usr/local/lib/python3.8/dist-packages (from azureml-core~=1.59.0->azureml-widgets) (1.3.0)\nRequirement already satisfied: jmespath<2.0.0 in /usr/local/lib/python3.8/dist-packages (from azureml-core~=1.59.0->azureml-widgets) (1.0.1)\nRequirement already satisfied: azure-mgmt-authorization<5,>=0.40.0 in /usr/local/lib/python3.8/dist-packages (from azureml-core~=1.59.0->azureml-widgets) (4.0.0)\nRequirement already satisfied: msrest<=0.7.1,>=0.5.1 in /usr/local/lib/python3.8/dist-packages (from azureml-core~=1.59.0->azureml-widgets) (0.7.1)\nRequirement already satisfied: msrestazure<=0.7,>=0.4.33 in /usr/local/lib/python3.8/dist-packages (from azureml-core~=1.59.0->azureml-widgets) (0.6.4.post1)\nRequirement already satisfied: SecretStorage<4.0.0 in /usr/lib/python3/dist-packages (from azureml-core~=1.59.0->azureml-widgets) (2.3.1)\nRequirement already satisfied: argcomplete<4 in /usr/local/lib/python3.8/dist-packages (from azureml-core~=1.59.0->azureml-widgets) (3.6.0)\nRequirement already satisfied: PyJWT<3.0.0 in /usr/lib/python3/dist-packages (from azureml-core~=1.59.0->azureml-widgets) (1.7.1)\nRequirement already satisfied: azure-mgmt-network<=29.0.0 in /usr/local/lib/python3.8/dist-packages (from azureml-core~=1.59.0->azureml-widgets) (28.1.0)\nRequirement already satisfied: docker<8.0.0 in /usr/local/lib/python3.8/dist-packages (from azureml-core~=1.59.0->azureml-widgets) (7.1.0)\nRequirement already satisfied: jsonpickle<5.0.0 in /usr/local/lib/python3.8/dist-packages (from azureml-core~=1.59.0->azureml-widgets) (4.0.2)\nRequirement already satisfied: python-dateutil<3.0.0,>=2.7.3 in /usr/local/lib/python3.8/dist-packages (from azureml-core~=1.59.0->azureml-widgets) (2.9.0.post0)\nRequirement already satisfied: contextlib2<22.0.0 in /usr/local/lib/python3.8/dist-packages (from azureml-core~=1.59.0->azureml-widgets) (21.6.0)\nRequirement already satisfied: azure-core<2.0.0 in /usr/local/lib/python3.8/dist-packages (from azureml-core~=1.59.0->azureml-widgets) (1.32.0)\nRequirement already satisfied: pkginfo in /usr/local/lib/python3.8/dist-packages (from azureml-core~=1.59.0->azureml-widgets) (1.12.1.2)\nRequirement already satisfied: azure-graphrbac<1.0.0,>=0.40.0 in /usr/local/lib/python3.8/dist-packages (from azureml-core~=1.59.0->azureml-widgets) (0.61.2)\nRequirement already satisfied: pathspec<1.0.0 in /usr/local/lib/python3.8/dist-packages (from azureml-core~=1.59.0->azureml-widgets) (0.12.1)\nRequirement already satisfied: azure-common<2.0.0,>=1.1.12 in /usr/local/lib/python3.8/dist-packages (from azureml-core~=1.59.0->azureml-widgets) (1.1.28)\nRequirement already satisfied: packaging<=25.0,>=20.0 in /usr/local/lib/python3.8/dist-packages (from azureml-core~=1.59.0->azureml-widgets) (24.2)\nRequirement already satisfied: msal<2.0.0,>=1.15.0 in /usr/local/lib/python3.8/dist-packages (from azureml-core~=1.59.0->azureml-widgets) (1.32.0)\nRequirement already satisfied: backports.tempfile in /usr/local/lib/python3.8/dist-packages (from azureml-core~=1.59.0->azureml-widgets) (1.0)\nRequirement already satisfied: azure-mgmt-containerregistry<11,>=8.2.0 in /usr/local/lib/python3.8/dist-packages (from azureml-core~=1.59.0->azureml-widgets) (10.3.0)\nRequirement already satisfied: requests[socks]<3.0.0,>=2.19.1 in /usr/lib/python3/dist-packages (from azureml-core~=1.59.0->azureml-widgets) (2.22.0)\nRequirement already satisfied: azure-mgmt-resource<=24.0.0,>=15.0.0 in /usr/local/lib/python3.8/dist-packages (from azureml-core~=1.59.0->azureml-widgets) (23.3.0)\nRequirement already satisfied: paramiko<4.0.0,>=2.0.8 in /usr/local/lib/python3.8/dist-packages (from azureml-core~=1.59.0->azureml-widgets) (3.5.1)\nRequirement already satisfied: pytz in /usr/lib/python3/dist-packages (from azureml-core~=1.59.0->azureml-widgets) (2019.3)\nRequirement already satisfied: azure-mgmt-keyvault<11.0.0,>=0.40.0 in /usr/local/lib/python3.8/dist-packages (from azureml-core~=1.59.0->azureml-widgets) (10.3.1)\nRequirement already satisfied: adal<=1.2.7,>=1.2.0 in /usr/local/lib/python3.8/dist-packages (from azureml-core~=1.59.0->azureml-widgets) (1.2.7)\nRequirement already satisfied: pyopenssl<25.0.0 in /usr/lib/python3/dist-packages (from azureml-core~=1.59.0->azureml-widgets) (19.0.0)\nRequirement already satisfied: urllib3<3.0.0,>1.26.17 in /usr/local/lib/python3.8/dist-packages (from azureml-core~=1.59.0->azureml-widgets) (2.2.3)\nRequirement already satisfied: humanfriendly<11.0,>=4.7 in /usr/local/lib/python3.8/dist-packages (from azureml-core~=1.59.0->azureml-widgets) (10.0)\nRequirement already satisfied: ndg-httpsclient<=0.5.1 in /usr/local/lib/python3.8/dist-packages (from azureml-core~=1.59.0->azureml-widgets) (0.5.1)\nRequirement already satisfied: azure-mgmt-storage<=22.0.0,>=16.0.0 in /usr/local/lib/python3.8/dist-packages (from azureml-core~=1.59.0->azureml-widgets) (22.0.0)\nRequirement already satisfied: widgetsnbextension~=3.6.10 in /usr/local/lib/python3.8/dist-packages (from ipywidgets<8.0.0,>=7.0.0->azureml-widgets) (3.6.10)\nRequirement already satisfied: ipython>=4.0.0; python_version >= \"3.3\" in /usr/local/lib/python3.8/dist-packages (from ipywidgets<8.0.0,>=7.0.0->azureml-widgets) (8.12.3)\nRequirement already satisfied: jupyterlab-widgets<3,>=1.0.0; python_version >= \"3.6\" in /usr/local/lib/python3.8/dist-packages (from ipywidgets<8.0.0,>=7.0.0->azureml-widgets) (1.1.11)\nRequirement already satisfied: ipython-genutils~=0.2.0 in /usr/local/lib/python3.8/dist-packages (from ipywidgets<8.0.0,>=7.0.0->azureml-widgets) (0.2.0)\nRequirement already satisfied: comm>=0.1.3 in /usr/local/lib/python3.8/dist-packages (from ipywidgets<8.0.0,>=7.0.0->azureml-widgets) (0.2.2)\nRequirement already satisfied: traitlets>=4.3.1 in /usr/local/lib/python3.8/dist-packages (from ipywidgets<8.0.0,>=7.0.0->azureml-widgets) (5.14.3)\nRequirement already satisfied: applicationinsights in /usr/local/lib/python3.8/dist-packages (from azureml-telemetry~=1.59.0->azureml-widgets) (0.11.10)\nRequirement already satisfied: cryptography>=2.1.4 in /usr/lib/python3/dist-packages (from azure-storage-blob>=12.6.0->azureml-widgets) (2.8)\nRequirement already satisfied: isodate>=0.6.1 in /usr/local/lib/python3.8/dist-packages (from azure-storage-blob>=12.6.0->azureml-widgets) (0.7.2)\nRequirement already satisfied: typing-extensions>=4.6.0 in /usr/local/lib/python3.8/dist-packages (from azure-storage-blob>=12.6.0->azureml-widgets) (4.12.2)\nRequirement already satisfied: pyyaml in /usr/lib/python3/dist-packages (from knack<0.13.0->azureml-core~=1.59.0->azureml-widgets) (5.3.1)\nRequirement already satisfied: tabulate in /usr/local/lib/python3.8/dist-packages (from knack<0.13.0->azureml-core~=1.59.0->azureml-widgets) (0.9.0)\nRequirement already satisfied: pygments in /usr/local/lib/python3.8/dist-packages (from knack<0.13.0->azureml-core~=1.59.0->azureml-widgets) (2.19.1)\nRequirement already satisfied: azure-mgmt-core<2.0.0,>=1.3.2 in /usr/local/lib/python3.8/dist-packages (from azure-mgmt-authorization<5,>=0.40.0->azureml-core~=1.59.0->azureml-widgets) (1.5.0)\nRequirement already satisfied: requests-oauthlib>=0.5.0 in /usr/local/lib/python3.8/dist-packages (from msrest<=0.7.1,>=0.5.1->azureml-core~=1.59.0->azureml-widgets) (2.0.0)\nRequirement already satisfied: certifi>=2017.4.17 in /usr/lib/python3/dist-packages (from msrest<=0.7.1,>=0.5.1->azureml-core~=1.59.0->azureml-widgets) (2019.11.28)\nRequirement already satisfied: six in /usr/lib/python3/dist-packages (from msrestazure<=0.7,>=0.4.33->azureml-core~=1.59.0->azureml-widgets) (1.14.0)\nRequirement already satisfied: backports.weakref in /usr/local/lib/python3.8/dist-packages (from backports.tempfile->azureml-core~=1.59.0->azureml-widgets) (1.0.post1)\nRequirement already satisfied: PySocks!=1.5.7,>=1.5.6 in /usr/local/lib/python3.8/dist-packages (from requests[socks]<3.0.0,>=2.19.1->azureml-core~=1.59.0->azureml-widgets) (1.7.1)\nRequirement already satisfied: pynacl>=1.5 in /usr/local/lib/python3.8/dist-packages (from paramiko<4.0.0,>=2.0.8->azureml-core~=1.59.0->azureml-widgets) (1.5.0)\nRequirement already satisfied: bcrypt>=3.2 in /usr/local/lib/python3.8/dist-packages (from paramiko<4.0.0,>=2.0.8->azureml-core~=1.59.0->azureml-widgets) (4.3.0)\nRequirement already satisfied: pyasn1>=0.1.1 in /usr/lib/python3/dist-packages (from ndg-httpsclient<=0.5.1->azureml-core~=1.59.0->azureml-widgets) (0.4.2)\nRequirement already satisfied: notebook>=4.4.1 in /usr/local/lib/python3.8/dist-packages (from widgetsnbextension~=3.6.10->ipywidgets<8.0.0,>=7.0.0->azureml-widgets) (7.3.3)\nRequirement already satisfied: pickleshare in /usr/local/lib/python3.8/dist-packages (from ipython>=4.0.0; python_version >= \"3.3\"->ipywidgets<8.0.0,>=7.0.0->azureml-widgets) (0.7.5)\nRequirement already satisfied: decorator in /usr/local/lib/python3.8/dist-packages (from ipython>=4.0.0; python_version >= \"3.3\"->ipywidgets<8.0.0,>=7.0.0->azureml-widgets) (5.2.1)\nRequirement already satisfied: jedi>=0.16 in /usr/local/lib/python3.8/dist-packages (from ipython>=4.0.0; python_version >= \"3.3\"->ipywidgets<8.0.0,>=7.0.0->azureml-widgets) (0.19.2)\nRequirement already satisfied: prompt-toolkit!=3.0.37,<3.1.0,>=3.0.30 in /usr/local/lib/python3.8/dist-packages (from ipython>=4.0.0; python_version >= \"3.3\"->ipywidgets<8.0.0,>=7.0.0->azureml-widgets) (3.0.50)\nRequirement already satisfied: backcall in /usr/local/lib/python3.8/dist-packages (from ipython>=4.0.0; python_version >= \"3.3\"->ipywidgets<8.0.0,>=7.0.0->azureml-widgets) (0.2.0)\nRequirement already satisfied: stack-data in /usr/local/lib/python3.8/dist-packages (from ipython>=4.0.0; python_version >= \"3.3\"->ipywidgets<8.0.0,>=7.0.0->azureml-widgets) (0.6.3)\nRequirement already satisfied: pexpect>4.3; sys_platform != \"win32\" in /usr/lib/python3/dist-packages (from ipython>=4.0.0; python_version >= \"3.3\"->ipywidgets<8.0.0,>=7.0.0->azureml-widgets) (4.6.0)\nRequirement already satisfied: matplotlib-inline in /usr/local/lib/python3.8/dist-packages (from ipython>=4.0.0; python_version >= \"3.3\"->ipywidgets<8.0.0,>=7.0.0->azureml-widgets) (0.1.7)\nRequirement already satisfied: oauthlib>=3.0.0 in /usr/lib/python3/dist-packages (from requests-oauthlib>=0.5.0->msrest<=0.7.1,>=0.5.1->azureml-core~=1.59.0->azureml-widgets) (3.1.0)\nRequirement already satisfied: cffi>=1.4.1 in /usr/local/lib/python3.8/dist-packages (from pynacl>=1.5->paramiko<4.0.0,>=2.0.8->azureml-core~=1.59.0->azureml-widgets) (1.17.1)\nRequirement already satisfied: jupyterlab-server<3,>=2.27.1 in /usr/local/lib/python3.8/dist-packages (from notebook>=4.4.1->widgetsnbextension~=3.6.10->ipywidgets<8.0.0,>=7.0.0->azureml-widgets) (2.27.3)\nRequirement already satisfied: notebook-shim<0.3,>=0.2 in /usr/local/lib/python3.8/dist-packages (from notebook>=4.4.1->widgetsnbextension~=3.6.10->ipywidgets<8.0.0,>=7.0.0->azureml-widgets) (0.2.4)\nRequirement already satisfied: jupyterlab<4.4,>=4.3.6 in /usr/local/lib/python3.8/dist-packages (from notebook>=4.4.1->widgetsnbextension~=3.6.10->ipywidgets<8.0.0,>=7.0.0->azureml-widgets) (4.3.6)\nRequirement already satisfied: jupyter-server<3,>=2.4.0 in /usr/local/lib/python3.8/dist-packages (from notebook>=4.4.1->widgetsnbextension~=3.6.10->ipywidgets<8.0.0,>=7.0.0->azureml-widgets) (2.14.2)\nRequirement already satisfied: tornado>=6.2.0 in /usr/local/lib/python3.8/dist-packages (from notebook>=4.4.1->widgetsnbextension~=3.6.10->ipywidgets<8.0.0,>=7.0.0->azureml-widgets) (6.4.2)\nRequirement already satisfied: parso<0.9.0,>=0.8.4 in /usr/local/lib/python3.8/dist-packages (from jedi>=0.16->ipython>=4.0.0; python_version >= \"3.3\"->ipywidgets<8.0.0,>=7.0.0->azureml-widgets) (0.8.4)\nRequirement already satisfied: wcwidth in /usr/local/lib/python3.8/dist-packages (from prompt-toolkit!=3.0.37,<3.1.0,>=3.0.30->ipython>=4.0.0; python_version >= \"3.3\"->ipywidgets<8.0.0,>=7.0.0->azureml-widgets) (0.2.13)\nRequirement already satisfied: pure-eval in /usr/local/lib/python3.8/dist-packages (from stack-data->ipython>=4.0.0; python_version >= \"3.3\"->ipywidgets<8.0.0,>=7.0.0->azureml-widgets) (0.2.3)\nRequirement already satisfied: asttokens>=2.1.0 in /usr/local/lib/python3.8/dist-packages (from stack-data->ipython>=4.0.0; python_version >= \"3.3\"->ipywidgets<8.0.0,>=7.0.0->azureml-widgets) (3.0.0)\nRequirement already satisfied: executing>=1.2.0 in /usr/local/lib/python3.8/dist-packages (from stack-data->ipython>=4.0.0; python_version >= \"3.3\"->ipywidgets<8.0.0,>=7.0.0->azureml-widgets) (2.2.0)\nRequirement already satisfied: pycparser in /usr/local/lib/python3.8/dist-packages (from cffi>=1.4.1->pynacl>=1.5->paramiko<4.0.0,>=2.0.8->azureml-core~=1.59.0->azureml-widgets) (2.22)\nRequirement already satisfied: jsonschema>=4.18.0 in /usr/local/lib/python3.8/dist-packages (from jupyterlab-server<3,>=2.27.1->notebook>=4.4.1->widgetsnbextension~=3.6.10->ipywidgets<8.0.0,>=7.0.0->azureml-widgets) (4.23.0)\nRequirement already satisfied: babel>=2.10 in /usr/local/lib/python3.8/dist-packages (from jupyterlab-server<3,>=2.27.1->notebook>=4.4.1->widgetsnbextension~=3.6.10->ipywidgets<8.0.0,>=7.0.0->azureml-widgets) (2.17.0)\nRequirement already satisfied: importlib-metadata>=4.8.3; python_version < \"3.10\" in /usr/local/lib/python3.8/dist-packages (from jupyterlab-server<3,>=2.27.1->notebook>=4.4.1->widgetsnbextension~=3.6.10->ipywidgets<8.0.0,>=7.0.0->azureml-widgets) (8.5.0)\nRequirement already satisfied: json5>=0.9.0 in /usr/local/lib/python3.8/dist-packages (from jupyterlab-server<3,>=2.27.1->notebook>=4.4.1->widgetsnbextension~=3.6.10->ipywidgets<8.0.0,>=7.0.0->azureml-widgets) (0.10.0)\nRequirement already satisfied: setuptools>=40.8.0 in /usr/lib/python3/dist-packages (from jupyterlab<4.4,>=4.3.6->notebook>=4.4.1->widgetsnbextension~=3.6.10->ipywidgets<8.0.0,>=7.0.0->azureml-widgets) (45.2.0)\nRequirement already satisfied: httpx>=0.25.0 in /usr/local/lib/python3.8/dist-packages (from jupyterlab<4.4,>=4.3.6->notebook>=4.4.1->widgetsnbextension~=3.6.10->ipywidgets<8.0.0,>=7.0.0->azureml-widgets) (0.28.1)\nRequirement already satisfied: tomli>=1.2.2; python_version < \"3.11\" in /usr/local/lib/python3.8/dist-packages (from jupyterlab<4.4,>=4.3.6->notebook>=4.4.1->widgetsnbextension~=3.6.10->ipywidgets<8.0.0,>=7.0.0->azureml-widgets) (2.2.1)\nRequirement already satisfied: jupyter-lsp>=2.0.0 in /usr/local/lib/python3.8/dist-packages (from jupyterlab<4.4,>=4.3.6->notebook>=4.4.1->widgetsnbextension~=3.6.10->ipywidgets<8.0.0,>=7.0.0->azureml-widgets) (2.2.5)\nRequirement already satisfied: importlib-resources>=1.4; python_version < \"3.9\" in /usr/local/lib/python3.8/dist-packages (from jupyterlab<4.4,>=4.3.6->notebook>=4.4.1->widgetsnbextension~=3.6.10->ipywidgets<8.0.0,>=7.0.0->azureml-widgets) (6.4.5)\nRequirement already satisfied: jupyter-core in /usr/local/lib/python3.8/dist-packages (from jupyterlab<4.4,>=4.3.6->notebook>=4.4.1->widgetsnbextension~=3.6.10->ipywidgets<8.0.0,>=7.0.0->azureml-widgets) (5.7.2)\nRequirement already satisfied: async-lru>=1.0.0 in /usr/local/lib/python3.8/dist-packages (from jupyterlab<4.4,>=4.3.6->notebook>=4.4.1->widgetsnbextension~=3.6.10->ipywidgets<8.0.0,>=7.0.0->azureml-widgets) (2.0.4)\nRequirement already satisfied: ipykernel>=6.5.0 in /usr/local/lib/python3.8/dist-packages (from jupyterlab<4.4,>=4.3.6->notebook>=4.4.1->widgetsnbextension~=3.6.10->ipywidgets<8.0.0,>=7.0.0->azureml-widgets) (6.29.5)\nRequirement already satisfied: prometheus-client>=0.9 in /usr/local/lib/python3.8/dist-packages (from jupyter-server<3,>=2.4.0->notebook>=4.4.1->widgetsnbextension~=3.6.10->ipywidgets<8.0.0,>=7.0.0->azureml-widgets) (0.21.1)\nRequirement already satisfied: nbformat>=5.3.0 in /usr/local/lib/python3.8/dist-packages (from jupyter-server<3,>=2.4.0->notebook>=4.4.1->widgetsnbextension~=3.6.10->ipywidgets<8.0.0,>=7.0.0->azureml-widgets) (5.10.4)\nRequirement already satisfied: jupyter-server-terminals>=0.4.4 in /usr/local/lib/python3.8/dist-packages (from jupyter-server<3,>=2.4.0->notebook>=4.4.1->widgetsnbextension~=3.6.10->ipywidgets<8.0.0,>=7.0.0->azureml-widgets) (0.5.3)\nRequirement already satisfied: overrides>=5.0 in /usr/local/lib/python3.8/dist-packages (from jupyter-server<3,>=2.4.0->notebook>=4.4.1->widgetsnbextension~=3.6.10->ipywidgets<8.0.0,>=7.0.0->azureml-widgets) (7.7.0)\nRequirement already satisfied: jupyter-events>=0.9.0 in /usr/local/lib/python3.8/dist-packages (from jupyter-server<3,>=2.4.0->notebook>=4.4.1->widgetsnbextension~=3.6.10->ipywidgets<8.0.0,>=7.0.0->azureml-widgets) (0.10.0)\nRequirement already satisfied: nbconvert>=6.4.4 in /usr/local/lib/python3.8/dist-packages (from jupyter-server<3,>=2.4.0->notebook>=4.4.1->widgetsnbextension~=3.6.10->ipywidgets<8.0.0,>=7.0.0->azureml-widgets) (7.16.6)\nRequirement already satisfied: anyio>=3.1.0 in /usr/local/lib/python3.8/dist-packages (from jupyter-server<3,>=2.4.0->notebook>=4.4.1->widgetsnbextension~=3.6.10->ipywidgets<8.0.0,>=7.0.0->azureml-widgets) (4.5.2)\nRequirement already satisfied: websocket-client>=1.7 in /usr/local/lib/python3.8/dist-packages (from jupyter-server<3,>=2.4.0->notebook>=4.4.1->widgetsnbextension~=3.6.10->ipywidgets<8.0.0,>=7.0.0->azureml-widgets) (1.8.0)\nRequirement already satisfied: terminado>=0.8.3 in /usr/local/lib/python3.8/dist-packages (from jupyter-server<3,>=2.4.0->notebook>=4.4.1->widgetsnbextension~=3.6.10->ipywidgets<8.0.0,>=7.0.0->azureml-widgets) (0.18.1)\nRequirement already satisfied: argon2-cffi>=21.1 in /usr/local/lib/python3.8/dist-packages (from jupyter-server<3,>=2.4.0->notebook>=4.4.1->widgetsnbextension~=3.6.10->ipywidgets<8.0.0,>=7.0.0->azureml-widgets) (23.1.0)\nRequirement already satisfied: jupyter-client>=7.4.4 in /usr/local/lib/python3.8/dist-packages (from jupyter-server<3,>=2.4.0->notebook>=4.4.1->widgetsnbextension~=3.6.10->ipywidgets<8.0.0,>=7.0.0->azureml-widgets) (8.6.3)\nRequirement already satisfied: pyzmq>=24 in /usr/local/lib/python3.8/dist-packages (from jupyter-server<3,>=2.4.0->notebook>=4.4.1->widgetsnbextension~=3.6.10->ipywidgets<8.0.0,>=7.0.0->azureml-widgets) (26.3.0)\nRequirement already satisfied: send2trash>=1.8.2 in /usr/local/lib/python3.8/dist-packages (from jupyter-server<3,>=2.4.0->notebook>=4.4.1->widgetsnbextension~=3.6.10->ipywidgets<8.0.0,>=7.0.0->azureml-widgets) (1.8.3)\nRequirement already satisfied: pkgutil-resolve-name>=1.3.10; python_version < \"3.9\" in /usr/local/lib/python3.8/dist-packages (from jsonschema>=4.18.0->jupyterlab-server<3,>=2.27.1->notebook>=4.4.1->widgetsnbextension~=3.6.10->ipywidgets<8.0.0,>=7.0.0->azureml-widgets) (1.3.10)\nRequirement already satisfied: attrs>=22.2.0 in /usr/local/lib/python3.8/dist-packages (from jsonschema>=4.18.0->jupyterlab-server<3,>=2.27.1->notebook>=4.4.1->widgetsnbextension~=3.6.10->ipywidgets<8.0.0,>=7.0.0->azureml-widgets) (25.3.0)\nRequirement already satisfied: referencing>=0.28.4 in /usr/local/lib/python3.8/dist-packages (from jsonschema>=4.18.0->jupyterlab-server<3,>=2.27.1->notebook>=4.4.1->widgetsnbextension~=3.6.10->ipywidgets<8.0.0,>=7.0.0->azureml-widgets) (0.35.1)\nRequirement already satisfied: rpds-py>=0.7.1 in /usr/local/lib/python3.8/dist-packages (from jsonschema>=4.18.0->jupyterlab-server<3,>=2.27.1->notebook>=4.4.1->widgetsnbextension~=3.6.10->ipywidgets<8.0.0,>=7.0.0->azureml-widgets) (0.20.1)\nRequirement already satisfied: jsonschema-specifications>=2023.03.6 in /usr/local/lib/python3.8/dist-packages (from jsonschema>=4.18.0->jupyterlab-server<3,>=2.27.1->notebook>=4.4.1->widgetsnbextension~=3.6.10->ipywidgets<8.0.0,>=7.0.0->azureml-widgets) (2023.12.1)\nRequirement already satisfied: zipp>=3.20 in /usr/local/lib/python3.8/dist-packages (from importlib-metadata>=4.8.3; python_version < \"3.10\"->jupyterlab-server<3,>=2.27.1->notebook>=4.4.1->widgetsnbextension~=3.6.10->ipywidgets<8.0.0,>=7.0.0->azureml-widgets) (3.20.2)\nRequirement already satisfied: idna in /usr/lib/python3/dist-packages (from httpx>=0.25.0->jupyterlab<4.4,>=4.3.6->notebook>=4.4.1->widgetsnbextension~=3.6.10->ipywidgets<8.0.0,>=7.0.0->azureml-widgets) (2.8)\nRequirement already satisfied: httpcore==1.* in /usr/local/lib/python3.8/dist-packages (from httpx>=0.25.0->jupyterlab<4.4,>=4.3.6->notebook>=4.4.1->widgetsnbextension~=3.6.10->ipywidgets<8.0.0,>=7.0.0->azureml-widgets) (1.0.7)\nRequirement already satisfied: platformdirs>=2.5 in /usr/local/lib/python3.8/dist-packages (from jupyter-core->jupyterlab<4.4,>=4.3.6->notebook>=4.4.1->widgetsnbextension~=3.6.10->ipywidgets<8.0.0,>=7.0.0->azureml-widgets) (4.3.6)\nRequirement already satisfied: psutil in /usr/local/lib/python3.8/dist-packages (from ipykernel>=6.5.0->jupyterlab<4.4,>=4.3.6->notebook>=4.4.1->widgetsnbextension~=3.6.10->ipywidgets<8.0.0,>=7.0.0->azureml-widgets) (7.0.0)\nRequirement already satisfied: debugpy>=1.6.5 in /usr/local/lib/python3.8/dist-packages (from ipykernel>=6.5.0->jupyterlab<4.4,>=4.3.6->notebook>=4.4.1->widgetsnbextension~=3.6.10->ipywidgets<8.0.0,>=7.0.0->azureml-widgets) (1.8.13)\nRequirement already satisfied: nest-asyncio in /usr/local/lib/python3.8/dist-packages (from ipykernel>=6.5.0->jupyterlab<4.4,>=4.3.6->notebook>=4.4.1->widgetsnbextension~=3.6.10->ipywidgets<8.0.0,>=7.0.0->azureml-widgets) (1.6.0)\nRequirement already satisfied: fastjsonschema>=2.15 in /usr/local/lib/python3.8/dist-packages (from nbformat>=5.3.0->jupyter-server<3,>=2.4.0->notebook>=4.4.1->widgetsnbextension~=3.6.10->ipywidgets<8.0.0,>=7.0.0->azureml-widgets) (2.21.1)\nRequirement already satisfied: python-json-logger>=2.0.4 in /usr/local/lib/python3.8/dist-packages (from jupyter-events>=0.9.0->jupyter-server<3,>=2.4.0->notebook>=4.4.1->widgetsnbextension~=3.6.10->ipywidgets<8.0.0,>=7.0.0->azureml-widgets) (3.3.0)\nRequirement already satisfied: rfc3339-validator in /usr/local/lib/python3.8/dist-packages (from jupyter-events>=0.9.0->jupyter-server<3,>=2.4.0->notebook>=4.4.1->widgetsnbextension~=3.6.10->ipywidgets<8.0.0,>=7.0.0->azureml-widgets) (0.1.4)\nRequirement already satisfied: rfc3986-validator>=0.1.1 in /usr/local/lib/python3.8/dist-packages (from jupyter-events>=0.9.0->jupyter-server<3,>=2.4.0->notebook>=4.4.1->widgetsnbextension~=3.6.10->ipywidgets<8.0.0,>=7.0.0->azureml-widgets) (0.1.1)\nRequirement already satisfied: beautifulsoup4 in /usr/local/lib/python3.8/dist-packages (from nbconvert>=6.4.4->jupyter-server<3,>=2.4.0->notebook>=4.4.1->widgetsnbextension~=3.6.10->ipywidgets<8.0.0,>=7.0.0->azureml-widgets) (4.13.3)\nRequirement already satisfied: jupyterlab-pygments in /usr/local/lib/python3.8/dist-packages (from nbconvert>=6.4.4->jupyter-server<3,>=2.4.0->notebook>=4.4.1->widgetsnbextension~=3.6.10->ipywidgets<8.0.0,>=7.0.0->azureml-widgets) (0.3.0)\nRequirement already satisfied: nbclient>=0.5.0 in /usr/local/lib/python3.8/dist-packages (from nbconvert>=6.4.4->jupyter-server<3,>=2.4.0->notebook>=4.4.1->widgetsnbextension~=3.6.10->ipywidgets<8.0.0,>=7.0.0->azureml-widgets) (0.10.1)\nRequirement already satisfied: markupsafe>=2.0 in /usr/local/lib/python3.8/dist-packages (from nbconvert>=6.4.4->jupyter-server<3,>=2.4.0->notebook>=4.4.1->widgetsnbextension~=3.6.10->ipywidgets<8.0.0,>=7.0.0->azureml-widgets) (2.1.5)\nRequirement already satisfied: pandocfilters>=1.4.1 in /usr/local/lib/python3.8/dist-packages (from nbconvert>=6.4.4->jupyter-server<3,>=2.4.0->notebook>=4.4.1->widgetsnbextension~=3.6.10->ipywidgets<8.0.0,>=7.0.0->azureml-widgets) (1.5.1)\nRequirement already satisfied: mistune<4,>=2.0.3 in /usr/local/lib/python3.8/dist-packages (from nbconvert>=6.4.4->jupyter-server<3,>=2.4.0->notebook>=4.4.1->widgetsnbextension~=3.6.10->ipywidgets<8.0.0,>=7.0.0->azureml-widgets) (3.1.2)\nRequirement already satisfied: defusedxml in /usr/local/lib/python3.8/dist-packages (from nbconvert>=6.4.4->jupyter-server<3,>=2.4.0->notebook>=4.4.1->widgetsnbextension~=3.6.10->ipywidgets<8.0.0,>=7.0.0->azureml-widgets) (0.7.1)\nRequirement already satisfied: bleach[css]!=5.0.0 in /usr/local/lib/python3.8/dist-packages (from nbconvert>=6.4.4->jupyter-server<3,>=2.4.0->notebook>=4.4.1->widgetsnbextension~=3.6.10->ipywidgets<8.0.0,>=7.0.0->azureml-widgets) (6.1.0)\nRequirement already satisfied: exceptiongroup>=1.0.2; python_version < \"3.11\" in /usr/local/lib/python3.8/dist-packages (from anyio>=3.1.0->jupyter-server<3,>=2.4.0->notebook>=4.4.1->widgetsnbextension~=3.6.10->ipywidgets<8.0.0,>=7.0.0->azureml-widgets) (1.2.2)\nRequirement already satisfied: sniffio>=1.1 in /usr/local/lib/python3.8/dist-packages (from anyio>=3.1.0->jupyter-server<3,>=2.4.0->notebook>=4.4.1->widgetsnbextension~=3.6.10->ipywidgets<8.0.0,>=7.0.0->azureml-widgets) (1.3.1)\nRequirement already satisfied: ptyprocess; os_name != \"nt\" in /usr/local/lib/python3.8/dist-packages (from terminado>=0.8.3->jupyter-server<3,>=2.4.0->notebook>=4.4.1->widgetsnbextension~=3.6.10->ipywidgets<8.0.0,>=7.0.0->azureml-widgets) (0.7.0)\nRequirement already satisfied: argon2-cffi-bindings in /usr/local/lib/python3.8/dist-packages (from argon2-cffi>=21.1->jupyter-server<3,>=2.4.0->notebook>=4.4.1->widgetsnbextension~=3.6.10->ipywidgets<8.0.0,>=7.0.0->azureml-widgets) (21.2.0)\nRequirement already satisfied: h11<0.15,>=0.13 in /usr/local/lib/python3.8/dist-packages (from httpcore==1.*->httpx>=0.25.0->jupyterlab<4.4,>=4.3.6->notebook>=4.4.1->widgetsnbextension~=3.6.10->ipywidgets<8.0.0,>=7.0.0->azureml-widgets) (0.14.0)\nRequirement already satisfied: soupsieve>1.2 in /usr/local/lib/python3.8/dist-packages (from beautifulsoup4->nbconvert>=6.4.4->jupyter-server<3,>=2.4.0->notebook>=4.4.1->widgetsnbextension~=3.6.10->ipywidgets<8.0.0,>=7.0.0->azureml-widgets) (2.6)\nRequirement already satisfied: webencodings in /usr/local/lib/python3.8/dist-packages (from bleach[css]!=5.0.0->nbconvert>=6.4.4->jupyter-server<3,>=2.4.0->notebook>=4.4.1->widgetsnbextension~=3.6.10->ipywidgets<8.0.0,>=7.0.0->azureml-widgets) (0.5.1)\nRequirement already satisfied: tinycss2<1.3,>=1.1.0; extra == \"css\" in /usr/local/lib/python3.8/dist-packages (from bleach[css]!=5.0.0->nbconvert>=6.4.4->jupyter-server<3,>=2.4.0->notebook>=4.4.1->widgetsnbextension~=3.6.10->ipywidgets<8.0.0,>=7.0.0->azureml-widgets) (1.2.1)\n/usr/lib/python3/dist-packages/requests/__init__.py:89: RequestsDependencyWarning: urllib3 (2.2.3) or chardet (3.0.4) doesn't match a supported version!\n  warnings.warn(\"urllib3 ({}) or chardet ({}) doesn't match a supported \"\nTraceback (most recent call last):\n  File \"/usr/local/bin/jupyter-labextension\", line 5, in <module>\n    from jupyterlab.labextensions import main\n  File \"/usr/local/lib/python3.8/dist-packages/jupyterlab/__init__.py\", line 8, in <module>\n    from .handlers.announcements import (\n  File \"/usr/local/lib/python3.8/dist-packages/jupyterlab/handlers/announcements.py\", line 14, in <module>\n    from jupyter_server.base.handlers import APIHandler\n  File \"/usr/local/lib/python3.8/dist-packages/jupyter_server/base/handlers.py\", line 22, in <module>\n    from jinja2 import TemplateNotFound\n  File \"/usr/lib/python3/dist-packages/jinja2/__init__.py\", line 33, in <module>\n    from jinja2.environment import Environment, Template\n  File \"/usr/lib/python3/dist-packages/jinja2/environment.py\", line 15, in <module>\n    from jinja2 import nodes\n  File \"/usr/lib/python3/dist-packages/jinja2/nodes.py\", line 23, in <module>\n    from jinja2.utils import Markup\n  File \"/usr/lib/python3/dist-packages/jinja2/utils.py\", line 676, in <module>\n    from markupsafe import Markup, escape, soft_unicode\nImportError: cannot import name 'soft_unicode' from 'markupsafe' (/usr/local/lib/python3.8/dist-packages/markupsafe/__init__.py)\nJupyterLab v4.0.11\n/anaconda/envs/azureml_py38/share/jupyter/labextensions\n        jupyterlab-topbar-extension v0.6.1 \u001b[32menabled\u001b[0m \u001b[31m X\u001b[0m (python, jupyterlab-topbar)\n        jupyterlab-jupytext v1.4.3 \u001b[32menabled\u001b[0m \u001b[32mOK\u001b[0m (python, jupytext)\n        jupyterlab-plotly v5.24.1 \u001b[32menabled\u001b[0m \u001b[31m X\u001b[0m\n        jupyterlab-nvdashboard v0.11.00 \u001b[32menabled\u001b[0m \u001b[31m X\u001b[0m (python, jupyterlab_nvdashboard)\n        jupyterlab_pygments v0.3.0 \u001b[32menabled\u001b[0m \u001b[32mOK\u001b[0m (python, jupyterlab_pygments)\n        nbdime-jupyterlab v3.0.2 \u001b[32menabled\u001b[0m \u001b[32mOK\u001b[0m\n        jupyterlab-system-monitor v0.8.0 \u001b[32menabled\u001b[0m \u001b[31m X\u001b[0m (python, jupyterlab-system-monitor)\n        @jupyter-widgets/jupyterlab-manager v3.1.9 \u001b[32menabled\u001b[0m \u001b[31m X\u001b[0m (python, jupyterlab_widgets)\n        @jupyter-server/resource-usage v0.7.2 \u001b[32menabled\u001b[0m \u001b[31m X\u001b[0m (python, jupyter-resource-usage)\n\n/usr/local/share/jupyter/labextensions\n        @jupyter-notebook/lab-extension v7.3.3 \u001b[32menabled\u001b[0m \u001b[31m X\u001b[0m\n\n\n   The following extensions are outdated:\n        jupyterlab-topbar-extension\n        jupyterlab-plotly\n        jupyterlab-system-monitor\n        @jupyter-widgets/jupyterlab-manager\n        @jupyter-server/resource-usage\n        \n   Consider checking if an update is available for these packages.\n\n\n\"jupyterlab-nvdashboard@0.11.00\" is not compatible with the current JupyterLab\nConflicting Dependencies:\nJupyterLab                  Extension       Package\n>=4.0.11 <4.1.0             >=4.1.0 <5.0.0  @jupyterlab/settingregistry\n\n\n\n\"@jupyter-notebook/lab-extension@7.3.3\" is not compatible with the current JupyterLab\nConflicting Dependencies:\nJupyterLab                Extension       Package\n>=4.0.11 <4.1.0           >=4.3.6 <4.4.0  @jupyterlab/application\n>=4.1.11 <4.2.0           >=4.4.6 <4.5.0  @jupyterlab/apputils\n>=6.0.11 <6.1.0           >=6.3.6 <6.4.0  @jupyterlab/coreutils\n>=4.0.11 <4.1.0           >=4.3.6 <4.4.0  @jupyterlab/notebook\n>=4.0.11 <4.1.0           >=4.3.6 <4.4.0  @jupyterlab/translation\n>=4.0.11 <4.1.0           >=4.3.6 <4.4.0  @jupyterlab/ui-components\n\n\nOther labextensions (built into JupyterLab)\n   app dir: /anaconda/envs/azureml_py38/share/jupyter/lab\n        @jupyterlab/plotly-extension v1.0.0 \u001b[32menabled\u001b[0m \u001b[31m X\u001b[0m\n        azureml_widgets v1.1.0 \u001b[32menabled\u001b[0m \u001b[31m X\u001b[0m\n        jupyterlab-topbar-text v0.6.2 \u001b[32menabled\u001b[0m \u001b[31m X\u001b[0m\n\n   The following extensions are outdated:\n        @jupyterlab/plotly-extension\n        azureml_widgets\n        jupyterlab-topbar-text\n        \n   Consider checking if an update is available for these packages.\n\n\n\nThe following source extensions are overshadowed by older prebuilt extensions:\n    @jupyter-widgets/jupyterlab-manager\n"
        }
      ],
      "execution_count": 9,
      "metadata": {
        "gather": {
          "logged": 1741967364579
        }
      }
    },
    {
      "cell_type": "code",
      "source": [
        "from azureml.widgets import RunDetails\n",
        "\n",
        "# Submit the pipeline experiment\n",
        "try:\n",
        "    run = experiment.submit(pipeline)\n",
        "    print(f\"✅ Experiment \\\"{experiment_name}\\\" successfully submitted. Run ID: {run.id}\")\n",
        "\n",
        "    # Show live RunDetails widget\n",
        "    RunDetails(run).show()\n",
        "\n",
        "    # Monitor run progress with live logs\n",
        "    print(\"🔄 Waiting for pipeline execution to complete...\")\n",
        "    run.wait_for_completion(show_output=True)\n",
        "\n",
        "except Exception as e:\n",
        "    print(f\"⚠️ Error: {str(e)}\")"
      ],
      "outputs": [
        {
          "output_type": "stream",
          "name": "stdout",
          "text": "Created step AutoML_Classification [b51661e4][8a657e52-d718-4591-8bd0-ec21d24eb377], (This step will run and generate new outputs)\nSubmitted PipelineRun 29f08177-7f35-4bc5-b42e-e4d879ee79d6\nLink to Azure Machine Learning Portal: https://ml.azure.com/runs/29f08177-7f35-4bc5-b42e-e4d879ee79d6?wsid=/subscriptions/48778e11-0fc7-4fc8-a16c-304a430e61a4/resourcegroups/optimize-machine-learning/workspaces/optimize-machine-learning-ws&tid=f804f881-90d8-4e7d-8309-7fb565eaaf2c\n✅ Experiment \"bank-deposit-predictor\" successfully submitted. Run ID: 29f08177-7f35-4bc5-b42e-e4d879ee79d6\n"
        },
        {
          "output_type": "stream",
          "name": "stderr",
          "text": "2025-03-14 16:28:20.781590: E external/local_xla/xla/stream_executor/cuda/cuda_fft.cc:485] Unable to register cuFFT factory: Attempting to register factory for plugin cuFFT when one has already been registered\n2025-03-14 16:28:20.806627: E external/local_xla/xla/stream_executor/cuda/cuda_dnn.cc:8454] Unable to register cuDNN factory: Attempting to register factory for plugin cuDNN when one has already been registered\n2025-03-14 16:28:20.813814: E external/local_xla/xla/stream_executor/cuda/cuda_blas.cc:1452] Unable to register cuBLAS factory: Attempting to register factory for plugin cuBLAS when one has already been registered\n2025-03-14 16:28:20.833226: I tensorflow/core/platform/cpu_feature_guard.cc:210] This TensorFlow binary is optimized to use available CPU instructions in performance-critical operations.\nTo enable the following instructions: AVX2 FMA, in other operations, rebuild TensorFlow with the appropriate compiler flags.\n2025-03-14 16:28:22.182716: W tensorflow/compiler/tf2tensorrt/utils/py_utils.cc:38] TF-TRT Warning: Could not find TensorRT\n"
        },
        {
          "output_type": "display_data",
          "data": {
            "text/plain": "_PipelineWidget(widget_settings={'childWidgetDisplay': 'popup', 'send_telemetry': False, 'log_level': 'INFO', …",
            "application/vnd.jupyter.widget-view+json": {
              "version_major": 2,
              "version_minor": 0,
              "model_id": "fa7ebe7777ef424f88ddaa733eafce86"
            }
          },
          "metadata": {}
        },
        {
          "output_type": "display_data",
          "data": {
            "application/aml.mini.widget.v1": "\"NotImplementedError('_DatasetClient.get is no longer supported. deprecated.')\""
          },
          "metadata": {}
        },
        {
          "output_type": "stream",
          "name": "stdout",
          "text": "🔄 Waiting for pipeline execution to complete...\nPipelineRunId: 29f08177-7f35-4bc5-b42e-e4d879ee79d6\nLink to Azure Machine Learning Portal: https://ml.azure.com/runs/29f08177-7f35-4bc5-b42e-e4d879ee79d6?wsid=/subscriptions/48778e11-0fc7-4fc8-a16c-304a430e61a4/resourcegroups/optimize-machine-learning/workspaces/optimize-machine-learning-ws&tid=f804f881-90d8-4e7d-8309-7fb565eaaf2c\nPipelineRun Status: Running\n\n\nStepRunId: 8ca913fe-66d9-4e75-8f6c-01c13c24ddf7\nLink to Azure Machine Learning Portal: https://ml.azure.com/runs/8ca913fe-66d9-4e75-8f6c-01c13c24ddf7?wsid=/subscriptions/48778e11-0fc7-4fc8-a16c-304a430e61a4/resourcegroups/optimize-machine-learning/workspaces/optimize-machine-learning-ws&tid=f804f881-90d8-4e7d-8309-7fb565eaaf2c\nStepRun( AutoML_Classification ) Status: NotStarted\n"
        },
        {
          "output_type": "stream",
          "name": "stderr",
          "text": "ERROR:azureml.data._dataset_client:[NOT_SUPPORTED_API_USE_ATTEMPT] The [_DatasetClient.get] API has been deprecated and is no longer supported\nERROR:azureml.data._dataset_client:[NOT_SUPPORTED_API_USE_ATTEMPT] The [_DatasetClient.get] API has been deprecated and is no longer supported\nERROR:azureml.data._dataset_client:[NOT_SUPPORTED_API_USE_ATTEMPT] The [_DatasetClient.get] API has been deprecated and is no longer supported\nERROR:azureml.data._dataset_client:[NOT_SUPPORTED_API_USE_ATTEMPT] The [_DatasetClient.get] API has been deprecated and is no longer supported\n"
        }
      ],
      "execution_count": 10,
      "metadata": {
        "gather": {
          "logged": 1741969560588
        },
        "jupyter": {
          "outputs_hidden": false
        }
      }
    },
    {
      "cell_type": "markdown",
      "source": [
        "## Viewing the Results"
      ],
      "metadata": {
        "nteract": {
          "transient": {
            "deleting": false
          }
        }
      }
    },
    {
      "cell_type": "markdown",
      "source": [
        "### Retrieving the Metrics of All Child Runs"
      ],
      "metadata": {
        "nteract": {
          "transient": {
            "deleting": false
          }
        }
      }
    },
    {
      "cell_type": "code",
      "source": [
        "import json\n",
        "import pandas as pd\n",
        "\n",
        "# Retrieve the pipeline output for metrics\n",
        "try:\n",
        "    metrics_output = run.get_pipeline_output(METRICS_OUTPUT_NAME)  # Use `run` instead of `pipeline_run`\n",
        "    num_files_downloaded = metrics_output.download('.', show_progress=True)\n",
        "\n",
        "    print(f\"✅ Successfully downloaded {num_files_downloaded} file(s) from pipeline output.\")\n",
        "\n",
        "    # Load and deserialize metrics data\n",
        "    with open(metrics_output._path_on_datastore, \"r\", encoding=\"utf-8\") as f:\n",
        "        metrics_output_result = f.read()\n",
        "\n",
        "    deserialized_metrics_output = json.loads(metrics_output_result)\n",
        "    df = pd.DataFrame(deserialized_metrics_output)\n",
        "\n",
        "    # Display the DataFrame\n",
        "    print(df)\n",
        "\n",
        "except Exception as e:\n",
        "    print(f\"⚠️ Error retrieving pipeline output: {str(e)}\")\n"
      ],
      "outputs": [],
      "execution_count": null,
      "metadata": {
        "gather": {
          "logged": 1741967408689
        }
      }
    },
    {
      "cell_type": "markdown",
      "source": [
        "### Retrieve the Best Model"
      ],
      "metadata": {
        "nteract": {
          "transient": {
            "deleting": false
          }
        }
      }
    },
    {
      "cell_type": "code",
      "source": [
        "import pickle\n",
        "\n",
        "# Retrieve the best model from the pipeline run\n",
        "try:\n",
        "    best_model_output = run.get_pipeline_output(MODEL_OUTPUT_NAME)\n",
        "    num_files_downloaded = best_model_output.download('.', show_progress=True)\n",
        "\n",
        "    print(f\"✅ Successfully downloaded {num_files_downloaded} file(s) from the pipeline output.\")\n",
        "\n",
        "    # Load the model from the downloaded file\n",
        "    model_path = best_model_output._path_on_datastore\n",
        "\n",
        "    if not model_path:\n",
        "        raise ValueError(\"⚠️ Error: Model output file path is empty or invalid.\")\n",
        "\n",
        "    with open(model_path, \"rb\") as f:\n",
        "        best_model = pickle.load(f)\n",
        "\n",
        "    print(\"✅ Model successfully loaded.\")\n",
        "\n",
        "    # Display model steps (if applicable)\n",
        "    if hasattr(best_model, \"steps\"):\n",
        "        print(\"🔹 Model Steps:\")\n",
        "        for step in best_model.steps:\n",
        "            print(f\"  - {step}\")\n",
        "    else:\n",
        "        print(\"⚠️ Warning: The loaded model does not have a `steps` attribute.\")\n",
        "\n",
        "except Exception as e:\n",
        "    print(f\"⚠️ Error retrieving or loading the model: {str(e)}\")\n"
      ],
      "outputs": [],
      "execution_count": null,
      "metadata": {
        "gather": {
          "logged": 1741967408796
        }
      }
    },
    {
      "cell_type": "markdown",
      "source": [
        "## Setting Up the the RestAPI for the Pipeline"
      ],
      "metadata": {
        "nteract": {
          "transient": {
            "deleting": false
          }
        }
      }
    },
    {
      "cell_type": "markdown",
      "source": [
        "### Publish the Pipeline"
      ],
      "metadata": {
        "nteract": {
          "transient": {
            "deleting": false
          }
        }
      }
    },
    {
      "cell_type": "code",
      "source": [
        "# Publish the pipeline with metadata\n",
        "published_pipeline = pipeline.publish(\n",
        "    name=\"Bank Marketing Predictor Pipeline\",\n",
        "    description=\"This pipeline is used to train an ML algorithm to recommend a bank savings account.\",\n",
        "    version=\"1.0\"\n",
        ")\n",
        "\n",
        "print(f\"✅ Pipeline successfully published. Pipeline ID: {published_pipeline.id}\")"
      ],
      "outputs": [],
      "execution_count": null,
      "metadata": {
        "gather": {
          "logged": 1741967409351
        }
      }
    },
    {
      "cell_type": "markdown",
      "source": [
        "### Authenticate and Retrieve the Authorization Header"
      ],
      "metadata": {
        "nteract": {
          "transient": {
            "deleting": false
          }
        }
      }
    },
    {
      "cell_type": "code",
      "source": [
        "from azureml.core.authentication import InteractiveLoginAuthentication\n",
        "\n",
        "interactive_auth = InteractiveLoginAuthentication()\n",
        "auth_header = interactive_auth.get_authentication_header()\n"
      ],
      "outputs": [],
      "execution_count": null,
      "metadata": {
        "gather": {
          "logged": 1741967409497
        }
      }
    },
    {
      "cell_type": "markdown",
      "source": [
        "### Trigger the Pipeline Execution via REST API"
      ],
      "metadata": {
        "nteract": {
          "transient": {
            "deleting": false
          }
        }
      }
    },
    {
      "cell_type": "code",
      "source": [
        "import requests\n",
        "\n",
        "rest_endpoint = published_pipeline.endpoint\n",
        "response = requests.post(\n",
        "    rest_endpoint,\n",
        "    headers=auth_header,\n",
        "    json={\"ExperimentName\": \"pipeline-rest-endpoint\"}\n",
        ")\n"
      ],
      "outputs": [],
      "execution_count": null,
      "metadata": {
        "gather": {
          "logged": 1741967409505
        }
      }
    },
    {
      "cell_type": "markdown",
      "source": [
        "### Handle API Response and Extract Run ID"
      ],
      "metadata": {
        "nteract": {
          "transient": {
            "deleting": false
          }
        }
      }
    },
    {
      "cell_type": "code",
      "source": [
        "try:\n",
        "    response.raise_for_status()\n",
        "except Exception:\n",
        "    raise Exception(\n",
        "        \"Received an error response from the endpoint:\\n\"\n",
        "        f\"🔹 Endpoint: {rest_endpoint}\\n\"\n",
        "        f\"🔹 Response Code: {response.status_code}\\n\"\n",
        "        f\"🔹 Headers: {response.headers}\\n\"\n",
        "        f\"🔹 Content: {response.content}\"\n",
        "    )\n",
        "\n",
        "run_id = response.json().get('Id')\n",
        "print(f\"✅ Pipeline run successfully submitted. Run ID: {run_id}\")"
      ],
      "outputs": [],
      "execution_count": null,
      "metadata": {
        "gather": {
          "logged": 1741967409511
        }
      }
    },
    {
      "cell_type": "markdown",
      "source": [
        "### Monitor the Pipeline Execution"
      ],
      "metadata": {
        "nteract": {
          "transient": {
            "deleting": false
          }
        }
      }
    },
    {
      "cell_type": "code",
      "source": [
        "from azureml.pipeline.core.run import PipelineRun\n",
        "from azureml.widgets import RunDetails\n",
        "\n",
        "published_pipeline_run = PipelineRun(ws.experiments[\"pipeline-rest-endpoint\"], run_id)\n",
        "RunDetails(published_pipeline_run).show()\n"
      ],
      "outputs": [],
      "execution_count": null,
      "metadata": {
        "jupyter": {
          "source_hidden": false,
          "outputs_hidden": false
        },
        "nteract": {
          "transient": {
            "deleting": false
          }
        },
        "gather": {
          "logged": 1741967409516
        }
      }
    }
  ],
  "metadata": {
    "kernelspec": {
      "name": "python38-azureml",
      "language": "python",
      "display_name": "Python 3.8 - AzureML"
    },
    "language_info": {
      "name": "python",
      "version": "3.10.11",
      "mimetype": "text/x-python",
      "codemirror_mode": {
        "name": "ipython",
        "version": 3
      },
      "pygments_lexer": "ipython3",
      "nbconvert_exporter": "python",
      "file_extension": ".py"
    },
    "microsoft": {
      "ms_spell_check": {
        "ms_spell_check_language": "en"
      },
      "host": {
        "AzureML": {
          "notebookHasBeenCompleted": true
        }
      }
    },
    "nteract": {
      "version": "nteract-front-end@1.0.0"
    },
    "kernel_info": {
      "name": "python38-azureml"
    }
  },
  "nbformat": 4,
  "nbformat_minor": 2
}